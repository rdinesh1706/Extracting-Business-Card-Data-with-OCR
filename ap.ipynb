{
 "cells": [
  {
   "cell_type": "code",
   "execution_count": 4,
   "metadata": {},
   "outputs": [],
   "source": [
    "import pandas as pd\n",
    "import numpy as np\n",
    "import mysql.connector\n",
    "import streamlit as st\n"
   ]
  },
  {
   "cell_type": "code",
   "execution_count": 3,
   "metadata": {},
   "outputs": [],
   "source": [
    "mydb = mysql.connector.connect(\n",
    "    host=\"localhost\",\n",
    "    user=\"root\",\n",
    "    password=\"rdx@17\",\n",
    "    database=\"biz_card\"\n",
    ")\n",
    "cursor = mydb.cursor()\n",
    "\n",
    "create_query = ''' create table if not exists card_data(    Card_holder_name text,\n",
    "                                                            Desigination text,\n",
    "                                                            Company_name text,\n",
    "                                                            Phone_number varchar(30),\n",
    "                                                            Email_id text,\n",
    "                                                            Website text,\n",
    "                                                            Area varchar(100),\n",
    "                                                            City text,\n",
    "                                                            State text,\n",
    "                                                            Pincode varchar(10),\n",
    "                                                            Image longblob\n",
    "                                                        )'''\n",
    "cursor.execute(create_query)\n",
    "mydb.commit()"
   ]
  },
  {
   "cell_type": "code",
   "execution_count": null,
   "metadata": {},
   "outputs": [],
   "source": []
  }
 ],
 "metadata": {
  "kernelspec": {
   "display_name": ".venv",
   "language": "python",
   "name": "python3"
  },
  "language_info": {
   "codemirror_mode": {
    "name": "ipython",
    "version": 3
   },
   "file_extension": ".py",
   "mimetype": "text/x-python",
   "name": "python",
   "nbconvert_exporter": "python",
   "pygments_lexer": "ipython3",
   "version": "3.10.6"
  }
 },
 "nbformat": 4,
 "nbformat_minor": 2
}
